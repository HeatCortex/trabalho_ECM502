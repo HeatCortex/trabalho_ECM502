{
  "nbformat": 4,
  "nbformat_minor": 0,
  "metadata": {
    "colab": {
      "provenance": [],
      "authorship_tag": "ABX9TyPgqCDhw090hGqzrQ8ijEzN",
      "include_colab_link": true
    },
    "kernelspec": {
      "name": "python3",
      "display_name": "Python 3"
    },
    "language_info": {
      "name": "python"
    }
  },
  "cells": [
    {
      "cell_type": "markdown",
      "metadata": {
        "id": "view-in-github",
        "colab_type": "text"
      },
      "source": [
        "<a href=\"https://colab.research.google.com/github/HeatCortex/trabalho_ECM502/blob/main/Trabalho_ECM502_Inteligencia_Artificial.ipynb\" target=\"_parent\"><img src=\"https://colab.research.google.com/assets/colab-badge.svg\" alt=\"Open In Colab\"/></a>"
      ]
    },
    {
      "cell_type": "markdown",
      "source": [
        "# Introdução - Breve descrição do tcc"
      ],
      "metadata": {
        "id": "ZGa0eYcl9B-6"
      }
    },
    {
      "cell_type": "markdown",
      "source": [
        "# Barreiras tecnologicas\n",
        "    - Difficuldade de encontrar artigos sobre eyetraking\n",
        "    - Falta de base de dados ou poder computacional para treinar as ias\n",
        "    - Prazo fornecido para realizacao do tcc\n",
        "    \n"
      ],
      "metadata": {
        "id": "V147z_y4--TW"
      }
    },
    {
      "cell_type": "markdown",
      "source": [
        "#Inteligeincias artificiais\n"
      ],
      "metadata": {
        "id": "ef9FBT9q_tw_"
      }
    },
    {
      "cell_type": "markdown",
      "source": [
        "## Eyetracking - Estimativa de olhar\n",
        "\n"
      ],
      "metadata": {
        "id": "OJkrVIqK_xn3"
      }
    },
    {
      "cell_type": "markdown",
      "source": [
        "### **Breve descrição**\n",
        "O eye tracking baseado em imagem e cálculos aritméticos pode ser implementado com o uso da biblioteca MediaPipe, que é uma ferramenta popular para detecção de pontos faciais. O processo inclui algumas etapas como:\n",
        "\n",
        "- _Captura de Imagem_: Uma câmera de alta resolução captura imagens dos olhos e do rosto do indivíduo.\n",
        "\n",
        "- _Detecção da Pose da Cabeça e Pontos Faciais com MediaPipe_: A biblioteca MediaPipe é usada para detectar os pontos faciais, incluindo a posição dos olhos, nariz e boca, bem como a pose da cabeça em relação à câmera.\n",
        "\n",
        "- _Cálculos de Eyegaze com Base nos Pontos Faciais_: Usando a informação dos pontos faciais, os cálculos aritméticos são realizados para inferir a direção do olhar do indivíduo. A relação entre a pose da cabeça e a posição dos olhos é usada para determinar o eyegaze.\n",
        "\n",
        "### **Por que usar mediapipe?**\n",
        "A biblioteca MediaPipe é usada para análise contínua da pose da cabeça e dos pontos faciais, permitindo o monitoramento em tempo real do movimento dos olhos.\n",
        "Para o problema do Eyetracking usaremos a solução _**Face mesh**_\n",
        "\n",
        "\n",
        "![Attention Mesh: Overview of model architecture](https://github.com/HeatCortex/trabalho_ECM502/blob/main/assets/attention_mesh_architecture.png?raw=true)\n",
        "*Attention Mesh: Overview of model architecture. (https://mediapipe.readthedocs.io/en/latest/solutions/face_mesh.html)*\n",
        "\n",
        "\n",
        "### **Aplicações, Incluindo o Marketing**\n",
        "\n",
        "Além das aplicações mencionadas anteriormente, o eye tracking com MediaPipe oferece uma ferramenta poderosa para o marketing e a pesquisa de mercado. Aqui está como o marketing pode utilizar essa ferramenta:\n",
        "\n",
        "- **Heatmaps de Interesse do Consumidor**: Ao rastrear o olhar dos consumidores ao interagir com anúncios, displays de produtos ou lojas, o marketing pode criar heatmaps que destacam as áreas de maior interesse. Isso ajuda a identificar quais elementos visuais atraem mais atenção e podem influenciar as decisões de compra.\n",
        "\n",
        "- **Teste de Anúncios**: Os profissionais de marketing podem utilizar o eye tracking para avaliar a eficácia de anúncios publicitários, identificando se os elementos visuais mais importantes estão recebendo atenção adequada. Isso permite otimizar os anúncios para obter um impacto mais significativo.\n",
        "\n",
        "- **Design de Lojas e Exposições**: No varejo, o eye tracking pode ser usado para projetar o layout das lojas e exposições de produtos de maneira mais eficaz, posicionando os itens de maior interesse nas áreas onde os consumidores têm maior probabilidade de olhar.\n",
        "\n",
        "- **Avaliação de Embalagens de Produtos**: Ajuda a avaliar a eficácia do design de embalagens de produtos, identificando como os consumidores interagem visualmente com as embalagens e se elas comunicam eficazmente as mensagens de marca.\n",
        "\n",
        "- **Pesquisa de Comportamento do Consumidor**: O eye tracking com MediaPipe oferece uma visão mais profunda do comportamento visual dos consumidores, fornecendo dados valiosos sobre como as decisões de compra são influenciadas pela atenção visual.\n",
        "\n",
        "Em resumo, o uso do eye tracking com MediaPipe não só aprimora a análise da direção do olhar, mas também oferece oportunidades para o marketing e a pesquisa de mercado identificarem padrões de comportamento visual dos consumidores e otimizarem estratégias com base nesses insights.\n"
      ],
      "metadata": {
        "id": "871elu2CBg8_"
      }
    },
    {
      "cell_type": "markdown",
      "source": [
        "## Detecção de objetos\n",
        "\n"
      ],
      "metadata": {
        "id": "IR9GCEVL_6XI"
      }
    },
    {
      "cell_type": "markdown",
      "source": [
        "## Estimativa de Sexo\n"
      ],
      "metadata": {
        "id": "9clckgYW_6Mu"
      }
    },
    {
      "cell_type": "markdown",
      "source": [
        "## Estimativa de Emoção"
      ],
      "metadata": {
        "id": "iQYaVDmz_5-1"
      }
    },
    {
      "cell_type": "markdown",
      "source": [
        "## Estimativa de Idade"
      ],
      "metadata": {
        "id": "4v6Ff9YqATrG"
      }
    }
  ]
}