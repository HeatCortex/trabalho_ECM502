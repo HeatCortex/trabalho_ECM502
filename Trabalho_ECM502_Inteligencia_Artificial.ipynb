{
  "nbformat": 4,
  "nbformat_minor": 0,
  "metadata": {
    "colab": {
      "provenance": [],
      "authorship_tag": "ABX9TyNCUcLDGsS5WGyktq84Ok6o",
      "include_colab_link": true
    },
    "kernelspec": {
      "name": "python3",
      "display_name": "Python 3"
    },
    "language_info": {
      "name": "python"
    }
  },
  "cells": [
    {
      "cell_type": "markdown",
      "metadata": {
        "id": "view-in-github",
        "colab_type": "text"
      },
      "source": [
        "<a href=\"https://colab.research.google.com/github/HeatCortex/trabalho_ECM502/blob/main/Trabalho_ECM502_Inteligencia_Artificial.ipynb\" target=\"_parent\"><img src=\"https://colab.research.google.com/assets/colab-badge.svg\" alt=\"Open In Colab\"/></a>"
      ]
    },
    {
      "cell_type": "markdown",
      "source": [
        "# Introdução - Breve descrição do tcc"
      ],
      "metadata": {
        "id": "ZGa0eYcl9B-6"
      }
    },
    {
      "cell_type": "markdown",
      "source": [
        "# Barreiras tecnologicas\n",
        "    - Difficuldade de encontrar artigos sobre eyetraking\n",
        "    - Falta de base de dados ou poder computacional para treinar as ias\n",
        "    - Prazo fornecido para realizacao do tcc\n",
        "    \n"
      ],
      "metadata": {
        "id": "V147z_y4--TW"
      }
    },
    {
      "cell_type": "markdown",
      "source": [
        "#Inteligeincias artificiais\n"
      ],
      "metadata": {
        "id": "ef9FBT9q_tw_"
      }
    },
    {
      "cell_type": "markdown",
      "source": [
        "## Eyetracking - Estimativa de olhar\n",
        "\n"
      ],
      "metadata": {
        "id": "OJkrVIqK_xn3"
      }
    },
    {
      "cell_type": "markdown",
      "source": [
        "## Detecção de objetos\n",
        "\n"
      ],
      "metadata": {
        "id": "IR9GCEVL_6XI"
      }
    },
    {
      "cell_type": "markdown",
      "source": [
        "## Estimativa de Sexo\n"
      ],
      "metadata": {
        "id": "9clckgYW_6Mu"
      }
    },
    {
      "cell_type": "markdown",
      "source": [
        "## Estimativa de Emoção"
      ],
      "metadata": {
        "id": "iQYaVDmz_5-1"
      }
    },
    {
      "cell_type": "markdown",
      "source": [
        "## Estimativa de Idade"
      ],
      "metadata": {
        "id": "4v6Ff9YqATrG"
      }
    }
  ]
}